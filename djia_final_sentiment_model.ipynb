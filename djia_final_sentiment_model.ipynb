{
 "cells": [
  {
   "cell_type": "markdown",
   "id": "7ea9fc03",
   "metadata": {},
   "source": [
    "# Predicting Index Price of DJIA w/ Financial News Sentiments"
   ]
  },
  {
   "cell_type": "code",
   "execution_count": 1,
   "id": "6cceb4d3",
   "metadata": {},
   "outputs": [],
   "source": [
    "# Importing the libraries\n",
    "\n",
    "import numpy as np\n",
    "import pandas as pd\n",
    "import matplotlib.pyplot as plt\n",
    "import seaborn as sns\n",
    "from datetime import datetime\n",
    "import yfinance as yf\n",
    "\n",
    "from sklearn.preprocessing import MinMaxScaler\n",
    "from sklearn.metrics import mean_squared_error\n",
    "\n",
    "from tensorflow.keras.models import Sequential\n",
    "from tensorflow.keras.layers import Dense, LSTM, GRU\n",
    "from tensorflow.keras.optimizers import SGD\n",
    "from tensorflow.random import set_seed\n",
    "\n",
    "from pandas_datareader.data import DataReader\n"
   ]
  },
  {
   "cell_type": "code",
   "execution_count": 2,
   "id": "5b50fc71",
   "metadata": {},
   "outputs": [],
   "source": [
    "import warnings\n",
    "warnings.simplefilter(\"ignore\")\n",
    "\n",
    "set_seed(455)\n",
    "np.random.seed(455)\n"
   ]
  },
  {
   "cell_type": "markdown",
   "id": "c7688940",
   "metadata": {},
   "source": [
    "### Load Data"
   ]
  },
  {
   "cell_type": "code",
   "execution_count": 3,
   "id": "f9221a73",
   "metadata": {},
   "outputs": [
    {
     "name": "stdout",
     "output_type": "stream",
     "text": [
      "[*********************100%%**********************]  1 of 1 completed\n"
     ]
    }
   ],
   "source": [
    "# Define time period\n",
    "# match with financial news data\n",
    "\n",
    "start = datetime(2017, 12, 16)\n",
    "end = datetime(2020, 7, 18)\n",
    "df_prices = yf.download(\"^DJI\", start, end)\n"
   ]
  },
  {
   "cell_type": "code",
   "execution_count": 4,
   "id": "2dc8533f",
   "metadata": {},
   "outputs": [
    {
     "data": {
      "text/html": [
       "<div>\n",
       "<style scoped>\n",
       "    .dataframe tbody tr th:only-of-type {\n",
       "        vertical-align: middle;\n",
       "    }\n",
       "\n",
       "    .dataframe tbody tr th {\n",
       "        vertical-align: top;\n",
       "    }\n",
       "\n",
       "    .dataframe thead th {\n",
       "        text-align: right;\n",
       "    }\n",
       "</style>\n",
       "<table border=\"1\" class=\"dataframe\">\n",
       "  <thead>\n",
       "    <tr style=\"text-align: right;\">\n",
       "      <th></th>\n",
       "      <th>Open</th>\n",
       "      <th>High</th>\n",
       "      <th>Low</th>\n",
       "      <th>Close</th>\n",
       "      <th>Adj Close</th>\n",
       "      <th>Volume</th>\n",
       "    </tr>\n",
       "    <tr>\n",
       "      <th>Date</th>\n",
       "      <th></th>\n",
       "      <th></th>\n",
       "      <th></th>\n",
       "      <th></th>\n",
       "      <th></th>\n",
       "      <th></th>\n",
       "    </tr>\n",
       "  </thead>\n",
       "  <tbody>\n",
       "    <tr>\n",
       "      <th>2017-12-18</th>\n",
       "      <td>24739.560547</td>\n",
       "      <td>24876.070312</td>\n",
       "      <td>24739.560547</td>\n",
       "      <td>24792.199219</td>\n",
       "      <td>24792.199219</td>\n",
       "      <td>354880000</td>\n",
       "    </tr>\n",
       "    <tr>\n",
       "      <th>2017-12-19</th>\n",
       "      <td>24834.380859</td>\n",
       "      <td>24850.109375</td>\n",
       "      <td>24715.599609</td>\n",
       "      <td>24754.750000</td>\n",
       "      <td>24754.750000</td>\n",
       "      <td>335330000</td>\n",
       "    </tr>\n",
       "    <tr>\n",
       "      <th>2017-12-20</th>\n",
       "      <td>24838.089844</td>\n",
       "      <td>24852.439453</td>\n",
       "      <td>24697.109375</td>\n",
       "      <td>24726.650391</td>\n",
       "      <td>24726.650391</td>\n",
       "      <td>341790000</td>\n",
       "    </tr>\n",
       "    <tr>\n",
       "      <th>2017-12-21</th>\n",
       "      <td>24778.259766</td>\n",
       "      <td>24850.910156</td>\n",
       "      <td>24766.269531</td>\n",
       "      <td>24782.289062</td>\n",
       "      <td>24782.289062</td>\n",
       "      <td>339530000</td>\n",
       "    </tr>\n",
       "    <tr>\n",
       "      <th>2017-12-22</th>\n",
       "      <td>24764.039062</td>\n",
       "      <td>24784.150391</td>\n",
       "      <td>24717.509766</td>\n",
       "      <td>24754.060547</td>\n",
       "      <td>24754.060547</td>\n",
       "      <td>255140000</td>\n",
       "    </tr>\n",
       "  </tbody>\n",
       "</table>\n",
       "</div>"
      ],
      "text/plain": [
       "                    Open          High           Low         Close  \\\n",
       "Date                                                                 \n",
       "2017-12-18  24739.560547  24876.070312  24739.560547  24792.199219   \n",
       "2017-12-19  24834.380859  24850.109375  24715.599609  24754.750000   \n",
       "2017-12-20  24838.089844  24852.439453  24697.109375  24726.650391   \n",
       "2017-12-21  24778.259766  24850.910156  24766.269531  24782.289062   \n",
       "2017-12-22  24764.039062  24784.150391  24717.509766  24754.060547   \n",
       "\n",
       "               Adj Close     Volume  \n",
       "Date                                 \n",
       "2017-12-18  24792.199219  354880000  \n",
       "2017-12-19  24754.750000  335330000  \n",
       "2017-12-20  24726.650391  341790000  \n",
       "2017-12-21  24782.289062  339530000  \n",
       "2017-12-22  24754.060547  255140000  "
      ]
     },
     "execution_count": 4,
     "metadata": {},
     "output_type": "execute_result"
    }
   ],
   "source": [
    "# Visualize dataframe\n",
    "df_prices.head()"
   ]
  },
  {
   "cell_type": "code",
   "execution_count": 5,
   "id": "8daf6a97",
   "metadata": {},
   "outputs": [
    {
     "data": {
      "text/plain": [
       "[Timestamp('2017-12-18 00:00:00'),\n",
       " Timestamp('2017-12-19 00:00:00'),\n",
       " Timestamp('2017-12-20 00:00:00'),\n",
       " Timestamp('2017-12-21 00:00:00'),\n",
       " Timestamp('2017-12-22 00:00:00'),\n",
       " Timestamp('2017-12-26 00:00:00'),\n",
       " Timestamp('2017-12-27 00:00:00'),\n",
       " Timestamp('2017-12-28 00:00:00'),\n",
       " Timestamp('2017-12-29 00:00:00'),\n",
       " Timestamp('2018-01-02 00:00:00'),\n",
       " Timestamp('2018-01-03 00:00:00'),\n",
       " Timestamp('2018-01-04 00:00:00'),\n",
       " Timestamp('2018-01-05 00:00:00'),\n",
       " Timestamp('2018-01-08 00:00:00'),\n",
       " Timestamp('2018-01-09 00:00:00'),\n",
       " Timestamp('2018-01-10 00:00:00'),\n",
       " Timestamp('2018-01-11 00:00:00'),\n",
       " Timestamp('2018-01-12 00:00:00'),\n",
       " Timestamp('2018-01-16 00:00:00'),\n",
       " Timestamp('2018-01-17 00:00:00')]"
      ]
     },
     "execution_count": 5,
     "metadata": {},
     "output_type": "execute_result"
    }
   ],
   "source": [
    "dates_list = df_prices.index.tolist()\n",
    "dates_list[:20]"
   ]
  },
  {
   "cell_type": "code",
   "execution_count": 6,
   "id": "3a1b3203",
   "metadata": {},
   "outputs": [],
   "source": [
    "# Index consists of timestamp elements\n",
    "timestamp = dates_list[0]\n",
    "\n",
    "# Extracting the date as a string\n",
    "date_string = timestamp.strftime('%Y-%m-%d')"
   ]
  },
  {
   "cell_type": "code",
   "execution_count": 7,
   "id": "b097ffa3",
   "metadata": {},
   "outputs": [],
   "source": [
    "# Feed in sentiment data from csv\n",
    "file_path = 'Financial_News_Sentiment.csv'\n",
    "df_news = pd.read_csv(file_path, index_col=0)"
   ]
  },
  {
   "cell_type": "code",
   "execution_count": 8,
   "id": "9ab1bcd9",
   "metadata": {},
   "outputs": [
    {
     "data": {
      "text/html": [
       "<div>\n",
       "<style scoped>\n",
       "    .dataframe tbody tr th:only-of-type {\n",
       "        vertical-align: middle;\n",
       "    }\n",
       "\n",
       "    .dataframe tbody tr th {\n",
       "        vertical-align: top;\n",
       "    }\n",
       "\n",
       "    .dataframe thead th {\n",
       "        text-align: right;\n",
       "    }\n",
       "</style>\n",
       "<table border=\"1\" class=\"dataframe\">\n",
       "  <thead>\n",
       "    <tr style=\"text-align: right;\">\n",
       "      <th></th>\n",
       "      <th>Positive</th>\n",
       "      <th>Negative</th>\n",
       "      <th>Neutral</th>\n",
       "    </tr>\n",
       "    <tr>\n",
       "      <th>Date</th>\n",
       "      <th></th>\n",
       "      <th></th>\n",
       "      <th></th>\n",
       "    </tr>\n",
       "  </thead>\n",
       "  <tbody>\n",
       "    <tr>\n",
       "      <th>2020-07-18</th>\n",
       "      <td>0.135504</td>\n",
       "      <td>0.314033</td>\n",
       "      <td>0.550463</td>\n",
       "    </tr>\n",
       "    <tr>\n",
       "      <th>2020-07-17</th>\n",
       "      <td>0.194660</td>\n",
       "      <td>0.400375</td>\n",
       "      <td>0.404965</td>\n",
       "    </tr>\n",
       "    <tr>\n",
       "      <th>2020-07-16</th>\n",
       "      <td>0.198061</td>\n",
       "      <td>0.429176</td>\n",
       "      <td>0.372763</td>\n",
       "    </tr>\n",
       "    <tr>\n",
       "      <th>2020-07-15</th>\n",
       "      <td>0.278595</td>\n",
       "      <td>0.337260</td>\n",
       "      <td>0.384145</td>\n",
       "    </tr>\n",
       "    <tr>\n",
       "      <th>2020-07-14</th>\n",
       "      <td>0.231314</td>\n",
       "      <td>0.385918</td>\n",
       "      <td>0.382769</td>\n",
       "    </tr>\n",
       "  </tbody>\n",
       "</table>\n",
       "</div>"
      ],
      "text/plain": [
       "            Positive  Negative   Neutral\n",
       "Date                                    \n",
       "2020-07-18  0.135504  0.314033  0.550463\n",
       "2020-07-17  0.194660  0.400375  0.404965\n",
       "2020-07-16  0.198061  0.429176  0.372763\n",
       "2020-07-15  0.278595  0.337260  0.384145\n",
       "2020-07-14  0.231314  0.385918  0.382769"
      ]
     },
     "execution_count": 8,
     "metadata": {},
     "output_type": "execute_result"
    }
   ],
   "source": [
    "# Visualize dataframe\n",
    "df_news.head()"
   ]
  },
  {
   "cell_type": "code",
   "execution_count": 9,
   "id": "308d5425",
   "metadata": {},
   "outputs": [
    {
     "data": {
      "text/plain": [
       "[Timestamp('2017-12-17 00:00:00'),\n",
       " Timestamp('2017-12-18 00:00:00'),\n",
       " Timestamp('2017-12-19 00:00:00'),\n",
       " Timestamp('2017-12-20 00:00:00'),\n",
       " Timestamp('2017-12-21 00:00:00'),\n",
       " Timestamp('2017-12-22 00:00:00'),\n",
       " Timestamp('2017-12-25 00:00:00'),\n",
       " Timestamp('2017-12-26 00:00:00'),\n",
       " Timestamp('2017-12-27 00:00:00'),\n",
       " Timestamp('2017-12-28 00:00:00'),\n",
       " Timestamp('2017-12-30 00:00:00'),\n",
       " Timestamp('2017-12-31 00:00:00'),\n",
       " Timestamp('2018-01-02 00:00:00'),\n",
       " Timestamp('2018-01-03 00:00:00'),\n",
       " Timestamp('2018-01-04 00:00:00'),\n",
       " Timestamp('2018-01-05 00:00:00'),\n",
       " Timestamp('2018-01-06 00:00:00'),\n",
       " Timestamp('2018-01-08 00:00:00'),\n",
       " Timestamp('2018-01-09 00:00:00'),\n",
       " Timestamp('2018-01-10 00:00:00')]"
      ]
     },
     "execution_count": 9,
     "metadata": {},
     "output_type": "execute_result"
    }
   ],
   "source": [
    "# Convert index values from date strings into timestamp objects\n",
    "df_news.index = pd.to_datetime(df_news.index)\n",
    "\n",
    "# Sort by index values\n",
    "df_news.sort_index(ascending=True, inplace=True)\n",
    "\n",
    "# Confirm index values for dataframes match\n",
    "dates_list = df_news.index.tolist()\n",
    "dates_list[:20]"
   ]
  },
  {
   "cell_type": "code",
   "execution_count": 10,
   "id": "a21d8934",
   "metadata": {},
   "outputs": [
    {
     "name": "stdout",
     "output_type": "stream",
     "text": [
      "\n",
      "Merged DataFrame:\n"
     ]
    },
    {
     "data": {
      "text/html": [
       "<div>\n",
       "<style scoped>\n",
       "    .dataframe tbody tr th:only-of-type {\n",
       "        vertical-align: middle;\n",
       "    }\n",
       "\n",
       "    .dataframe tbody tr th {\n",
       "        vertical-align: top;\n",
       "    }\n",
       "\n",
       "    .dataframe thead th {\n",
       "        text-align: right;\n",
       "    }\n",
       "</style>\n",
       "<table border=\"1\" class=\"dataframe\">\n",
       "  <thead>\n",
       "    <tr style=\"text-align: right;\">\n",
       "      <th></th>\n",
       "      <th>Open</th>\n",
       "      <th>High</th>\n",
       "      <th>Low</th>\n",
       "      <th>Close</th>\n",
       "      <th>Adj Close</th>\n",
       "      <th>Volume</th>\n",
       "      <th>Positive</th>\n",
       "      <th>Negative</th>\n",
       "      <th>Neutral</th>\n",
       "    </tr>\n",
       "    <tr>\n",
       "      <th>Date</th>\n",
       "      <th></th>\n",
       "      <th></th>\n",
       "      <th></th>\n",
       "      <th></th>\n",
       "      <th></th>\n",
       "      <th></th>\n",
       "      <th></th>\n",
       "      <th></th>\n",
       "      <th></th>\n",
       "    </tr>\n",
       "  </thead>\n",
       "  <tbody>\n",
       "    <tr>\n",
       "      <th>2017-12-18</th>\n",
       "      <td>24739.560547</td>\n",
       "      <td>24876.070312</td>\n",
       "      <td>24739.560547</td>\n",
       "      <td>24792.199219</td>\n",
       "      <td>24792.199219</td>\n",
       "      <td>354880000</td>\n",
       "      <td>0.134950</td>\n",
       "      <td>0.427190</td>\n",
       "      <td>0.437860</td>\n",
       "    </tr>\n",
       "    <tr>\n",
       "      <th>2017-12-19</th>\n",
       "      <td>24834.380859</td>\n",
       "      <td>24850.109375</td>\n",
       "      <td>24715.599609</td>\n",
       "      <td>24754.750000</td>\n",
       "      <td>24754.750000</td>\n",
       "      <td>335330000</td>\n",
       "      <td>0.098566</td>\n",
       "      <td>0.410148</td>\n",
       "      <td>0.491286</td>\n",
       "    </tr>\n",
       "    <tr>\n",
       "      <th>2017-12-20</th>\n",
       "      <td>24838.089844</td>\n",
       "      <td>24852.439453</td>\n",
       "      <td>24697.109375</td>\n",
       "      <td>24726.650391</td>\n",
       "      <td>24726.650391</td>\n",
       "      <td>341790000</td>\n",
       "      <td>0.153500</td>\n",
       "      <td>0.408590</td>\n",
       "      <td>0.437910</td>\n",
       "    </tr>\n",
       "    <tr>\n",
       "      <th>2017-12-21</th>\n",
       "      <td>24778.259766</td>\n",
       "      <td>24850.910156</td>\n",
       "      <td>24766.269531</td>\n",
       "      <td>24782.289062</td>\n",
       "      <td>24782.289062</td>\n",
       "      <td>339530000</td>\n",
       "      <td>0.094427</td>\n",
       "      <td>0.396806</td>\n",
       "      <td>0.508767</td>\n",
       "    </tr>\n",
       "    <tr>\n",
       "      <th>2017-12-22</th>\n",
       "      <td>24764.039062</td>\n",
       "      <td>24784.150391</td>\n",
       "      <td>24717.509766</td>\n",
       "      <td>24754.060547</td>\n",
       "      <td>24754.060547</td>\n",
       "      <td>255140000</td>\n",
       "      <td>0.188427</td>\n",
       "      <td>0.297866</td>\n",
       "      <td>0.513707</td>\n",
       "    </tr>\n",
       "    <tr>\n",
       "      <th>...</th>\n",
       "      <td>...</td>\n",
       "      <td>...</td>\n",
       "      <td>...</td>\n",
       "      <td>...</td>\n",
       "      <td>...</td>\n",
       "      <td>...</td>\n",
       "      <td>...</td>\n",
       "      <td>...</td>\n",
       "      <td>...</td>\n",
       "    </tr>\n",
       "    <tr>\n",
       "      <th>2018-05-07</th>\n",
       "      <td>24317.660156</td>\n",
       "      <td>24479.449219</td>\n",
       "      <td>24263.419922</td>\n",
       "      <td>24357.320312</td>\n",
       "      <td>24357.320312</td>\n",
       "      <td>307670000</td>\n",
       "      <td>0.167224</td>\n",
       "      <td>0.311097</td>\n",
       "      <td>0.521679</td>\n",
       "    </tr>\n",
       "    <tr>\n",
       "      <th>2018-05-08</th>\n",
       "      <td>24341.349609</td>\n",
       "      <td>24412.339844</td>\n",
       "      <td>24198.339844</td>\n",
       "      <td>24360.210938</td>\n",
       "      <td>24360.210938</td>\n",
       "      <td>344940000</td>\n",
       "      <td>0.184633</td>\n",
       "      <td>0.370310</td>\n",
       "      <td>0.445057</td>\n",
       "    </tr>\n",
       "    <tr>\n",
       "      <th>2018-05-09</th>\n",
       "      <td>24399.179688</td>\n",
       "      <td>24586.480469</td>\n",
       "      <td>24323.869141</td>\n",
       "      <td>24542.539062</td>\n",
       "      <td>24542.539062</td>\n",
       "      <td>361580000</td>\n",
       "      <td>0.257348</td>\n",
       "      <td>0.321024</td>\n",
       "      <td>0.421629</td>\n",
       "    </tr>\n",
       "    <tr>\n",
       "      <th>2018-05-10</th>\n",
       "      <td>24591.660156</td>\n",
       "      <td>24794.990234</td>\n",
       "      <td>24575.910156</td>\n",
       "      <td>24739.529297</td>\n",
       "      <td>24739.529297</td>\n",
       "      <td>304210000</td>\n",
       "      <td>0.203189</td>\n",
       "      <td>0.418905</td>\n",
       "      <td>0.377906</td>\n",
       "    </tr>\n",
       "    <tr>\n",
       "      <th>2018-05-11</th>\n",
       "      <td>24758.640625</td>\n",
       "      <td>24868.650391</td>\n",
       "      <td>24717.500000</td>\n",
       "      <td>24831.169922</td>\n",
       "      <td>24831.169922</td>\n",
       "      <td>274150000</td>\n",
       "      <td>0.269350</td>\n",
       "      <td>0.276648</td>\n",
       "      <td>0.454003</td>\n",
       "    </tr>\n",
       "  </tbody>\n",
       "</table>\n",
       "<p>100 rows × 9 columns</p>\n",
       "</div>"
      ],
      "text/plain": [
       "                    Open          High           Low         Close  \\\n",
       "Date                                                                 \n",
       "2017-12-18  24739.560547  24876.070312  24739.560547  24792.199219   \n",
       "2017-12-19  24834.380859  24850.109375  24715.599609  24754.750000   \n",
       "2017-12-20  24838.089844  24852.439453  24697.109375  24726.650391   \n",
       "2017-12-21  24778.259766  24850.910156  24766.269531  24782.289062   \n",
       "2017-12-22  24764.039062  24784.150391  24717.509766  24754.060547   \n",
       "...                  ...           ...           ...           ...   \n",
       "2018-05-07  24317.660156  24479.449219  24263.419922  24357.320312   \n",
       "2018-05-08  24341.349609  24412.339844  24198.339844  24360.210938   \n",
       "2018-05-09  24399.179688  24586.480469  24323.869141  24542.539062   \n",
       "2018-05-10  24591.660156  24794.990234  24575.910156  24739.529297   \n",
       "2018-05-11  24758.640625  24868.650391  24717.500000  24831.169922   \n",
       "\n",
       "               Adj Close     Volume  Positive  Negative   Neutral  \n",
       "Date                                                               \n",
       "2017-12-18  24792.199219  354880000  0.134950  0.427190  0.437860  \n",
       "2017-12-19  24754.750000  335330000  0.098566  0.410148  0.491286  \n",
       "2017-12-20  24726.650391  341790000  0.153500  0.408590  0.437910  \n",
       "2017-12-21  24782.289062  339530000  0.094427  0.396806  0.508767  \n",
       "2017-12-22  24754.060547  255140000  0.188427  0.297866  0.513707  \n",
       "...                  ...        ...       ...       ...       ...  \n",
       "2018-05-07  24357.320312  307670000  0.167224  0.311097  0.521679  \n",
       "2018-05-08  24360.210938  344940000  0.184633  0.370310  0.445057  \n",
       "2018-05-09  24542.539062  361580000  0.257348  0.321024  0.421629  \n",
       "2018-05-10  24739.529297  304210000  0.203189  0.418905  0.377906  \n",
       "2018-05-11  24831.169922  274150000  0.269350  0.276648  0.454003  \n",
       "\n",
       "[100 rows x 9 columns]"
      ]
     },
     "execution_count": 10,
     "metadata": {},
     "output_type": "execute_result"
    }
   ],
   "source": [
    "# Merge dataframes based on prices index (timestamps)\n",
    "df_merged = pd.merge(df_prices, df_news, left_index=True, right_index=True, how='left')\n",
    "\n",
    "# Fill NaN values with 0\n",
    "df_merged.fillna(0, inplace=True)\n",
    "\n",
    "# Display the merged DataFrame\n",
    "print(\"\\nMerged DataFrame:\")\n",
    "df_merged.head(100)"
   ]
  },
  {
   "cell_type": "markdown",
   "id": "c6982843",
   "metadata": {},
   "source": [
    "### Split into Train and Test"
   ]
  },
  {
   "cell_type": "code",
   "execution_count": 11,
   "id": "7deb8593",
   "metadata": {},
   "outputs": [
    {
     "data": {
      "image/png": "[encoded data removed]",
      "text/plain": [
       "<Figure size 1600x400 with 1 Axes>"
      ]
     },
     "metadata": {},
     "output_type": "display_data"
    }
   ],
   "source": [
    "# split dataset for 2020 and beyond in test\n",
    "\n",
    "tstart = 2017\n",
    "tend = 2019\n",
    "\n",
    "def train_test_plot(dataset, tstart, tend):\n",
    "    dataset.loc[f\"{tstart}\":f\"{tend}\", \"Close\"].plot(figsize=(16, 4), legend=True)\n",
    "    dataset.loc[f\"{tend+1}\":, \"Close\"].plot(figsize=(16, 4), legend=True)\n",
    "    plt.legend([f\"Train (Before {tend+1})\", f\"Test ({tend+1} and beyond)\"])\n",
    "    plt.title(\"DJIA index price\")\n",
    "    plt.show()\n",
    "\n",
    "train_test_plot(df_merged,tstart,tend)"
   ]
  },
  {
   "cell_type": "code",
   "execution_count": 30,
   "id": "a90597dd",
   "metadata": {},
   "outputs": [],
   "source": [
    "# Split the prices dataframe into training and testing segments\n",
    "def train_test_split(dataset, tstart, tend): \n",
    "    \n",
    "    # extract 2D arrays of closing prices and news sentiments from df\n",
    "    train_set = dataset.loc[f\"{tstart}\":f\"{tend}\", [\"Close\", \"Positive\", \"Neutral\", \"Negative\"]]\n",
    "    test_set = dataset.loc[f\"{tend+1}\":, [\"Close\", \"Positive\", \"Neutral\", \"Negative\"]]\n",
    "    \n",
    "    # return in array form\n",
    "    return train_set.values, test_set.values\n",
    "\n",
    "train_set, test_set = train_test_split(df_merged, tstart, tend)\n"
   ]
  },
  {
   "cell_type": "code",
   "execution_count": 52,
   "id": "905c1c2d",
   "metadata": {},
   "outputs": [
    {
     "name": "stdout",
     "output_type": "stream",
     "text": [
      "[[2.88688008e+04 2.83069718e-01 4.53625317e-01 2.63304961e-01]\n",
      " [2.86348809e+04 1.96759346e-01 4.32776418e-01 3.70464235e-01]\n",
      " [2.87033809e+04 2.45361387e-01 4.35066125e-01 3.19572486e-01]\n",
      " [2.85836797e+04 1.87880357e-01 3.71824550e-01 4.40295097e-01]\n",
      " [2.87450898e+04 2.41818967e-01 4.16278501e-01 3.41902535e-01]]\n"
     ]
    }
   ],
   "source": [
    "# Visualize test_set pre-scaling\n",
    "print(test_set[:5])"
   ]
  },
  {
   "cell_type": "code",
   "execution_count": 60,
   "id": "df5fd18b",
   "metadata": {},
   "outputs": [],
   "source": [
    "# Scaling the feature values between (0,1) within each feature column\n",
    "# Transformation on both prices and news sentiment features\n",
    "\n",
    "sc = MinMaxScaler(feature_range=(0, 1))\n",
    "train_set_scaled = sc.fit_transform(train_set)\n",
    "test_set_scaled = sc.fit_transform(test_set)\n"
   ]
  },
  {
   "cell_type": "code",
   "execution_count": 61,
   "id": "d68f96bf",
   "metadata": {},
   "outputs": [
    {
     "name": "stdout",
     "output_type": "stream",
     "text": [
      "(512, 4)\n",
      "[[0.93771433 0.88180956 0.6949227  0.04000183]\n",
      " [0.91637028 0.43159627 0.60690345 0.3957077 ]\n",
      " [0.92262057 0.68511487 0.61657007 0.22677697]\n",
      " [0.91169843 0.38528157 0.3495787  0.62750516]\n",
      " [0.92642632 0.66663685 0.53725304 0.30089963]]\n"
     ]
    }
   ],
   "source": [
    "# Visualize test_set_scaled\n",
    "print(train_set_scaled.shape)\n",
    "print(test_set_scaled[:5])"
   ]
  },
  {
   "cell_type": "code",
   "execution_count": 62,
   "id": "9639050b",
   "metadata": {},
   "outputs": [
    {
     "name": "stdout",
     "output_type": "stream",
     "text": [
      "[[0.93771433]\n",
      " [0.91637028]\n",
      " [0.92262057]\n",
      " [0.91169843]\n",
      " [0.92642632]]\n"
     ]
    }
   ],
   "source": [
    "# Extract 2D column vector for prices within test set\n",
    "# Generated scaling and inverse_transform for predicted prices\n",
    "\n",
    "prices_set = (df_merged.loc[f\"{tend+1}\":, \"Close\"].values).reshape(-1, 1)\n",
    "sc_test = MinMaxScaler(feature_range=(0, 1))\n",
    "test_prices_scaled = sc_test.fit_transform(prices_set)\n",
    "\n",
    "# Confirm scaling of prices_set with cell above\n",
    "print(test_prices_scaled[:5])\n"
   ]
  },
  {
   "cell_type": "code",
   "execution_count": 39,
   "id": "4c1ae642",
   "metadata": {},
   "outputs": [],
   "source": [
    "# Split the data into vectors X (sequences of length window_size) and Y (next price target)\n",
    "# Updated such that the individual sequences within X also contain the target's news sentiment scores\n",
    "\n",
    "def split_sequence(sequence, window):\n",
    "    X, y = list(), list()\n",
    "    for i in range(len(sequence)):\n",
    "        end_idx = i + window\n",
    "        if end_idx > len(sequence) - 1:\n",
    "            break # end when parsed through all window_size segments\n",
    "        seq_x, seq_y = sequence[i:end_idx], sequence[end_idx][0] # only target price\n",
    "        # update containers\n",
    "        X.append(seq_x)\n",
    "        y.append(np.array(seq_y))\n",
    "    # return following iter\n",
    "    return np.array(X), np.array(y)\n",
    "\n",
    "window_size = 50 # arbitrary\n",
    "features = 4 # dimensions for X input tensor \n",
    "\n",
    "# Call for both training and test set\n",
    "\n",
    "X_train, y_train = split_sequence(train_set_scaled, window_size)\n",
    "X_test, y_test = split_sequence(test_set_scaled, window_size)\n"
   ]
  },
  {
   "cell_type": "code",
   "execution_count": 45,
   "id": "faee7d87",
   "metadata": {},
   "outputs": [],
   "source": [
    "# Reshape y_train and y_test from 1D array to 2D column vector\n",
    "\n",
    "y_train = y_train.reshape(-1, 1)\n",
    "y_test = y_test.reshape(-1, 1)\n"
   ]
  },
  {
   "cell_type": "code",
   "execution_count": 47,
   "id": "4767c41e",
   "metadata": {},
   "outputs": [
    {
     "name": "stdout",
     "output_type": "stream",
     "text": [
      "X_train shape: (462, 50, 4)\n",
      "y_train shape: (462, 1)\n"
     ]
    }
   ],
   "source": [
    "# X_train and X_test should be of shape (num_sequences, window_size, features)\n",
    "# y_train and y_test should be of shape (num_sequences, 1)\n",
    "\n",
    "print(f\"X_train shape: {X_train.shape}\")\n",
    "print(f\"y_train shape: {y_train.shape}\")\n"
   ]
  },
  {
   "cell_type": "markdown",
   "id": "9142b492",
   "metadata": {},
   "source": [
    "## LSTM Training and Prediction"
   ]
  },
  {
   "cell_type": "code",
   "execution_count": 48,
   "id": "464ab014",
   "metadata": {},
   "outputs": [
    {
     "name": "stdout",
     "output_type": "stream",
     "text": [
      "Model: \"sequential\"\n",
      "_________________________________________________________________\n",
      " Layer (type)                Output Shape              Param #   \n",
      "=================================================================\n",
      " lstm (LSTM)                 (None, 125)               65000     \n",
      "                                                                 \n",
      " dense (Dense)               (None, 25)                3150      \n",
      "                                                                 \n",
      " dense_1 (Dense)             (None, 1)                 26        \n",
      "                                                                 \n",
      "=================================================================\n",
      "Total params: 68176 (266.31 KB)\n",
      "Trainable params: 68176 (266.31 KB)\n",
      "Non-trainable params: 0 (0.00 Byte)\n",
      "_________________________________________________________________\n"
     ]
    }
   ],
   "source": [
    "# Define model architecture\n",
    "\n",
    "model_lstm = Sequential()\n",
    "model_lstm.add(LSTM(units=125, activation=\"tanh\", input_shape=(window_size, features)))\n",
    "model_lstm.add(Dense(25))\n",
    "model_lstm.add(Dense(units=1)) # final dense layer (1) predicts value for target price\n",
    "\n",
    "model_lstm.compile(optimizer='adam', loss='mse')\n",
    "\n",
    "model_lstm.summary()\n"
   ]
  },
  {
   "cell_type": "code",
   "execution_count": 82,
   "id": "3754c80e",
   "metadata": {},
   "outputs": [
    {
     "name": "stdout",
     "output_type": "stream",
     "text": [
      "Epoch 1/15\n",
      "15/15 [==============================] - 0s 22ms/step - loss: 0.0019\n",
      "Epoch 2/15\n",
      "15/15 [==============================] - 0s 22ms/step - loss: 0.0020\n",
      "Epoch 3/15\n",
      "15/15 [==============================] - 0s 22ms/step - loss: 0.0021\n",
      "Epoch 4/15\n",
      "15/15 [==============================] - 0s 25ms/step - loss: 0.0022\n",
      "Epoch 5/15\n",
      "15/15 [==============================] - 0s 22ms/step - loss: 0.0019\n",
      "Epoch 6/15\n",
      "15/15 [==============================] - 0s 22ms/step - loss: 0.0017\n",
      "Epoch 7/15\n",
      "15/15 [==============================] - 0s 22ms/step - loss: 0.0017\n",
      "Epoch 8/15\n",
      "15/15 [==============================] - 0s 22ms/step - loss: 0.0018\n",
      "Epoch 9/15\n",
      "15/15 [==============================] - 0s 22ms/step - loss: 0.0017\n",
      "Epoch 10/15\n",
      "15/15 [==============================] - 0s 22ms/step - loss: 0.0017\n",
      "Epoch 11/15\n",
      "15/15 [==============================] - 0s 23ms/step - loss: 0.0017\n",
      "Epoch 12/15\n",
      "15/15 [==============================] - 0s 22ms/step - loss: 0.0019\n",
      "Epoch 13/15\n",
      "15/15 [==============================] - 0s 22ms/step - loss: 0.0017\n",
      "Epoch 14/15\n",
      "15/15 [==============================] - 0s 22ms/step - loss: 0.0016\n",
      "Epoch 15/15\n",
      "15/15 [==============================] - 0s 22ms/step - loss: 0.0016\n"
     ]
    },
    {
     "data": {
      "text/plain": [
       "<keras.src.callbacks.History at 0x28b099190>"
      ]
     },
     "execution_count": 82,
     "metadata": {},
     "output_type": "execute_result"
    }
   ],
   "source": [
    "# Train model\n",
    "\n",
    "model_lstm.fit(X_train, y_train, epochs=15, batch_size=32)\n"
   ]
  },
  {
   "cell_type": "code",
   "execution_count": 83,
   "id": "2fc110d3",
   "metadata": {},
   "outputs": [
    {
     "name": "stdout",
     "output_type": "stream",
     "text": [
      "3/3 [==============================] - 0s 8ms/step\n"
     ]
    }
   ],
   "source": [
    "# Make predictions on test set\n",
    "\n",
    "predicted_index_prices = model_lstm.predict(X_test)\n"
   ]
  },
  {
   "cell_type": "code",
   "execution_count": 84,
   "id": "2199060a",
   "metadata": {},
   "outputs": [],
   "source": [
    "# Inverse transform both y_test and predicted_index_price\n",
    "\n",
    "y_test_inv = sc_test.inverse_transform(y_test)\n",
    "predicted_index_prices_inv = sc_test.inverse_transform(predicted_index_prices)\n"
   ]
  },
  {
   "cell_type": "code",
   "execution_count": 85,
   "id": "52db68ab",
   "metadata": {},
   "outputs": [
    {
     "name": "stdout",
     "output_type": "stream",
     "text": [
      "[[20188.51953125]\n",
      " [21237.38085938]\n",
      " [19898.91992188]\n",
      " [20087.18945312]\n",
      " [19173.98046875]] \n",
      "\n",
      "\n",
      "[[22648.043]\n",
      " [21472.027]\n",
      " [21305.771]\n",
      " [20781.66 ]\n",
      " [20602.916]]\n"
     ]
    }
   ],
   "source": [
    "# Visualize y_test and predicted_index prices following transform\n",
    "\n",
    "print(y_test_inv[:5], \"\\n\\n\")\n",
    "print(predicted_index_prices_inv[:5])\n"
   ]
  },
  {
   "cell_type": "code",
   "execution_count": 86,
   "id": "08063cee",
   "metadata": {},
   "outputs": [],
   "source": [
    "# Helper functions for plotting model predictions vs true index prices\n",
    "\n",
    "def plot_predictions(test, predicted, model_type):\n",
    "    plt.plot(test, color=\"gray\", label=\"Real\")\n",
    "    plt.plot(predicted, color=\"red\", label=\"Predicted\")\n",
    "    plt.title(f\"Index Price Prediction for {model_type} model\")\n",
    "    plt.xlabel(\"Days following Feb 20th, 2020\")\n",
    "    plt.ylabel(\"Index Price\")\n",
    "    plt.legend()\n",
    "    plt.show()\n",
    "\n",
    "\n",
    "def return_rmse(test, predicted):\n",
    "    rmse = np.sqrt(mean_squared_error(test, predicted))\n",
    "    print(\"The root mean squared error is {:.2f} USD.\".format(rmse))\n",
    "    "
   ]
  },
  {
   "cell_type": "code",
   "execution_count": 87,
   "id": "2ebcfff3",
   "metadata": {},
   "outputs": [
    {
     "data": {
      "image/png": "[encoded data removed]",
      "text/plain": [
       "<Figure size 640x480 with 1 Axes>"
      ]
     },
     "metadata": {},
     "output_type": "display_data"
    }
   ],
   "source": [
    "# Display predictions plot\n",
    "\n",
    "plot_predictions(y_test_inv, predicted_index_prices_inv, \"LSTM\")\n"
   ]
  },
  {
   "cell_type": "markdown",
   "id": "87168019",
   "metadata": {},
   "source": [
    "**Comments:** From the plot above, we observe that our LSTM model trained with financial news sentiment features in addition to historical index data from the last 50 days was able to decently predict low-frequency trends in DJIA index price shifts. The model outperformed its benchmark equivalent by a statistically significant margin, demonstrated by the reduction in RMSE (below) of over 100 USD."
   ]
  },
  {
   "cell_type": "code",
   "execution_count": 88,
   "id": "1ccd4875",
   "metadata": {},
   "outputs": [
    {
     "name": "stdout",
     "output_type": "stream",
     "text": [
      "The root mean squared error is 677.95 USD.\n"
     ]
    }
   ],
   "source": [
    "# Display root mean squared error from the prediction\n",
    "\n",
    "return_rmse(y_test_inv, predicted_index_prices_inv)\n"
   ]
  },
  {
   "cell_type": "markdown",
   "id": "4b469560",
   "metadata": {},
   "source": [
    "## GRU Training and Prediction"
   ]
  },
  {
   "cell_type": "code",
   "execution_count": 70,
   "id": "aa3f42ef",
   "metadata": {},
   "outputs": [
    {
     "name": "stdout",
     "output_type": "stream",
     "text": [
      "Model: \"sequential_2\"\n",
      "_________________________________________________________________\n",
      " Layer (type)                Output Shape              Param #   \n",
      "=================================================================\n",
      " gru (GRU)                   (None, 125)               49125     \n",
      "                                                                 \n",
      " dense_2 (Dense)             (None, 10)                1260      \n",
      "                                                                 \n",
      " dense_3 (Dense)             (None, 1)                 11        \n",
      "                                                                 \n",
      "=================================================================\n",
      "Total params: 50396 (196.86 KB)\n",
      "Trainable params: 50396 (196.86 KB)\n",
      "Non-trainable params: 0 (0.00 Byte)\n",
      "_________________________________________________________________\n"
     ]
    }
   ],
   "source": [
    "# Define model architecture\n",
    "\n",
    "model_gru = Sequential()\n",
    "model_gru.add(GRU(units=125, activation=\"tanh\", input_shape=(window_size, features)))\n",
    "model_gru.add(Dense(units=10))\n",
    "model_gru.add(Dense(units=1)) # dense layer outputs target index price\n",
    "\n",
    "model_gru.compile(optimizer=\"adam\", loss=\"mse\")\n",
    "\n",
    "model_gru.summary()\n"
   ]
  },
  {
   "cell_type": "code",
   "execution_count": 89,
   "id": "f3f0bb65",
   "metadata": {},
   "outputs": [
    {
     "name": "stdout",
     "output_type": "stream",
     "text": [
      "Epoch 1/15\n",
      "15/15 [==============================] - 0s 19ms/step - loss: 0.0015\n",
      "Epoch 2/15\n",
      "15/15 [==============================] - 0s 19ms/step - loss: 0.0017\n",
      "Epoch 3/15\n",
      "15/15 [==============================] - 0s 18ms/step - loss: 0.0018\n",
      "Epoch 4/15\n",
      "15/15 [==============================] - 0s 18ms/step - loss: 0.0018\n",
      "Epoch 5/15\n",
      "15/15 [==============================] - 0s 19ms/step - loss: 0.0015\n",
      "Epoch 6/15\n",
      "15/15 [==============================] - 0s 18ms/step - loss: 0.0014\n",
      "Epoch 7/15\n",
      "15/15 [==============================] - 0s 18ms/step - loss: 0.0014\n",
      "Epoch 8/15\n",
      "15/15 [==============================] - 0s 18ms/step - loss: 0.0014\n",
      "Epoch 9/15\n",
      "15/15 [==============================] - 0s 18ms/step - loss: 0.0014\n",
      "Epoch 10/15\n",
      "15/15 [==============================] - 0s 18ms/step - loss: 0.0013\n",
      "Epoch 11/15\n",
      "15/15 [==============================] - 0s 18ms/step - loss: 0.0013\n",
      "Epoch 12/15\n",
      "15/15 [==============================] - 0s 19ms/step - loss: 0.0014\n",
      "Epoch 13/15\n",
      "15/15 [==============================] - 0s 18ms/step - loss: 0.0013\n",
      "Epoch 14/15\n",
      "15/15 [==============================] - 0s 18ms/step - loss: 0.0013\n",
      "Epoch 15/15\n",
      "15/15 [==============================] - 0s 19ms/step - loss: 0.0013\n"
     ]
    },
    {
     "data": {
      "text/plain": [
       "<keras.src.callbacks.History at 0x289b2ab90>"
      ]
     },
     "execution_count": 89,
     "metadata": {},
     "output_type": "execute_result"
    }
   ],
   "source": [
    "# Train model\n",
    "\n",
    "model_gru.fit(X_train, y_train, epochs=15, batch_size=32)\n"
   ]
  },
  {
   "cell_type": "code",
   "execution_count": 90,
   "id": "4a9f4009",
   "metadata": {},
   "outputs": [
    {
     "name": "stdout",
     "output_type": "stream",
     "text": [
      "3/3 [==============================] - 0s 7ms/step\n"
     ]
    }
   ],
   "source": [
    "# Model predictions and inverse transform\n",
    "\n",
    "GRU_predicted_stock_prices = model_gru.predict(X_test)\n",
    "GRU_predicted_stock_prices_inv = sc_test.inverse_transform(GRU_predicted_stock_prices)\n",
    "# y_test inverse transform stored from earlier\n"
   ]
  },
  {
   "cell_type": "code",
   "execution_count": 91,
   "id": "c72d8434",
   "metadata": {},
   "outputs": [
    {
     "data": {
      "image/png": "[encoded data removed]",
      "text/plain": [
       "<Figure size 640x480 with 1 Axes>"
      ]
     },
     "metadata": {},
     "output_type": "display_data"
    }
   ],
   "source": [
    "# Display predictions plot\n",
    "\n",
    "plot_predictions(y_test_inv, GRU_predicted_stock_prices_inv, \"GRU\")\n"
   ]
  },
  {
   "cell_type": "markdown",
   "id": "38ed7245",
   "metadata": {},
   "source": [
    "**Comments:** Based on the plot above, we can conclude that the GRU model containing financial news sentiment features captured a greater extent of high-frequency fluctions in DJIA index prices compared to that of our LSTM model before. Furthermore, this model also outperformed its benchmark equivalent as demonstrated by the reduction in RMSE value displayed below."
   ]
  },
  {
   "cell_type": "code",
   "execution_count": 92,
   "id": "755f6add",
   "metadata": {},
   "outputs": [
    {
     "name": "stdout",
     "output_type": "stream",
     "text": [
      "The root mean squared error is 640.20 USD.\n"
     ]
    }
   ],
   "source": [
    "# Report root mean squared error\n",
    "\n",
    "return_rmse(y_test_inv, GRU_predicted_stock_prices_inv)\n"
   ]
  }
 ],
 "metadata": {
  "kernelspec": {
   "display_name": "Python 3 (ipykernel)",
   "language": "python",
   "name": "python3"
  },
  "language_info": {
   "codemirror_mode": {
    "name": "ipython",
    "version": 3
   },
   "file_extension": ".py",
   "mimetype": "text/x-python",
   "name": "python",
   "nbconvert_exporter": "python",
   "pygments_lexer": "ipython3",
   "version": "3.11.4"
  }
 },
 "nbformat": 4,
 "nbformat_minor": 5
}
