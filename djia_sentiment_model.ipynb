{
 "cells": [
  {
   "cell_type": "markdown",
   "id": "7ea9fc03",
   "metadata": {},
   "source": [
    "# Predicting Index Price of DJIA w/ Financial News Sentiments"
   ]
  },
  {
   "cell_type": "code",
   "execution_count": 1,
   "id": "6cceb4d3",
   "metadata": {},
   "outputs": [],
   "source": [
    "# Importing the libraries\n",
    "\n",
    "import numpy as np\n",
    "import pandas as pd\n",
    "import matplotlib.pyplot as plt\n",
    "import seaborn as sns\n",
    "from datetime import datetime\n",
    "import yfinance as yf\n",
    "\n",
    "from sklearn.preprocessing import MinMaxScaler\n",
    "from sklearn.metrics import mean_squared_error\n",
    "\n",
    "from tensorflow.keras.models import Sequential\n",
    "from tensorflow.keras.layers import Dense, LSTM, GRU\n",
    "from tensorflow.keras.optimizers import SGD\n",
    "from tensorflow.random import set_seed\n",
    "\n",
    "from pandas_datareader.data import DataReader\n"
   ]
  },
  {
   "cell_type": "code",
   "execution_count": 2,
   "id": "5b50fc71",
   "metadata": {},
   "outputs": [],
   "source": [
    "import warnings\n",
    "warnings.simplefilter(\"ignore\")\n",
    "\n",
    "set_seed(455)\n",
    "np.random.seed(455)\n"
   ]
  },
  {
   "cell_type": "markdown",
   "id": "c7688940",
   "metadata": {},
   "source": [
    "### Load Data"
   ]
  },
  {
   "cell_type": "code",
   "execution_count": 7,
   "id": "f9221a73",
   "metadata": {},
   "outputs": [
    {
     "name": "stdout",
     "output_type": "stream",
     "text": [
      "[*********************100%%**********************]  1 of 1 completed\n"
     ]
    }
   ],
   "source": [
    "# Define time period\n",
    "# match with financial news data\n",
    "\n",
    "start = datetime(2017, 12, 16)\n",
    "end = datetime(2020, 7, 18)\n",
    "df_prices = yf.download(\"^DJI\", start, end)\n"
   ]
  },
  {
   "cell_type": "code",
   "execution_count": 8,
   "id": "2dc8533f",
   "metadata": {},
   "outputs": [
    {
     "data": {
      "text/html": [
       "<div>\n",
       "<style scoped>\n",
       "    .dataframe tbody tr th:only-of-type {\n",
       "        vertical-align: middle;\n",
       "    }\n",
       "\n",
       "    .dataframe tbody tr th {\n",
       "        vertical-align: top;\n",
       "    }\n",
       "\n",
       "    .dataframe thead th {\n",
       "        text-align: right;\n",
       "    }\n",
       "</style>\n",
       "<table border=\"1\" class=\"dataframe\">\n",
       "  <thead>\n",
       "    <tr style=\"text-align: right;\">\n",
       "      <th></th>\n",
       "      <th>Open</th>\n",
       "      <th>High</th>\n",
       "      <th>Low</th>\n",
       "      <th>Close</th>\n",
       "      <th>Adj Close</th>\n",
       "      <th>Volume</th>\n",
       "    </tr>\n",
       "    <tr>\n",
       "      <th>Date</th>\n",
       "      <th></th>\n",
       "      <th></th>\n",
       "      <th></th>\n",
       "      <th></th>\n",
       "      <th></th>\n",
       "      <th></th>\n",
       "    </tr>\n",
       "  </thead>\n",
       "  <tbody>\n",
       "    <tr>\n",
       "      <th>2017-12-18</th>\n",
       "      <td>24739.560547</td>\n",
       "      <td>24876.070312</td>\n",
       "      <td>24739.560547</td>\n",
       "      <td>24792.199219</td>\n",
       "      <td>24792.199219</td>\n",
       "      <td>354880000</td>\n",
       "    </tr>\n",
       "    <tr>\n",
       "      <th>2017-12-19</th>\n",
       "      <td>24834.380859</td>\n",
       "      <td>24850.109375</td>\n",
       "      <td>24715.599609</td>\n",
       "      <td>24754.750000</td>\n",
       "      <td>24754.750000</td>\n",
       "      <td>335330000</td>\n",
       "    </tr>\n",
       "    <tr>\n",
       "      <th>2017-12-20</th>\n",
       "      <td>24838.089844</td>\n",
       "      <td>24852.439453</td>\n",
       "      <td>24697.109375</td>\n",
       "      <td>24726.650391</td>\n",
       "      <td>24726.650391</td>\n",
       "      <td>341790000</td>\n",
       "    </tr>\n",
       "    <tr>\n",
       "      <th>2017-12-21</th>\n",
       "      <td>24778.259766</td>\n",
       "      <td>24850.910156</td>\n",
       "      <td>24766.269531</td>\n",
       "      <td>24782.289062</td>\n",
       "      <td>24782.289062</td>\n",
       "      <td>339530000</td>\n",
       "    </tr>\n",
       "    <tr>\n",
       "      <th>2017-12-22</th>\n",
       "      <td>24764.039062</td>\n",
       "      <td>24784.150391</td>\n",
       "      <td>24717.509766</td>\n",
       "      <td>24754.060547</td>\n",
       "      <td>24754.060547</td>\n",
       "      <td>255140000</td>\n",
       "    </tr>\n",
       "  </tbody>\n",
       "</table>\n",
       "</div>"
      ],
      "text/plain": [
       "                    Open          High           Low         Close  \\\n",
       "Date                                                                 \n",
       "2017-12-18  24739.560547  24876.070312  24739.560547  24792.199219   \n",
       "2017-12-19  24834.380859  24850.109375  24715.599609  24754.750000   \n",
       "2017-12-20  24838.089844  24852.439453  24697.109375  24726.650391   \n",
       "2017-12-21  24778.259766  24850.910156  24766.269531  24782.289062   \n",
       "2017-12-22  24764.039062  24784.150391  24717.509766  24754.060547   \n",
       "\n",
       "               Adj Close     Volume  \n",
       "Date                                 \n",
       "2017-12-18  24792.199219  354880000  \n",
       "2017-12-19  24754.750000  335330000  \n",
       "2017-12-20  24726.650391  341790000  \n",
       "2017-12-21  24782.289062  339530000  \n",
       "2017-12-22  24754.060547  255140000  "
      ]
     },
     "execution_count": 8,
     "metadata": {},
     "output_type": "execute_result"
    }
   ],
   "source": [
    "# Visualize dataframe\n",
    "df_prices.head()"
   ]
  },
  {
   "cell_type": "code",
   "execution_count": 14,
   "id": "8daf6a97",
   "metadata": {},
   "outputs": [
    {
     "data": {
      "text/plain": [
       "[Timestamp('2017-12-18 00:00:00'),\n",
       " Timestamp('2017-12-19 00:00:00'),\n",
       " Timestamp('2017-12-20 00:00:00'),\n",
       " Timestamp('2017-12-21 00:00:00'),\n",
       " Timestamp('2017-12-22 00:00:00'),\n",
       " Timestamp('2017-12-26 00:00:00'),\n",
       " Timestamp('2017-12-27 00:00:00'),\n",
       " Timestamp('2017-12-28 00:00:00'),\n",
       " Timestamp('2017-12-29 00:00:00'),\n",
       " Timestamp('2018-01-02 00:00:00'),\n",
       " Timestamp('2018-01-03 00:00:00'),\n",
       " Timestamp('2018-01-04 00:00:00'),\n",
       " Timestamp('2018-01-05 00:00:00'),\n",
       " Timestamp('2018-01-08 00:00:00'),\n",
       " Timestamp('2018-01-09 00:00:00'),\n",
       " Timestamp('2018-01-10 00:00:00'),\n",
       " Timestamp('2018-01-11 00:00:00'),\n",
       " Timestamp('2018-01-12 00:00:00'),\n",
       " Timestamp('2018-01-16 00:00:00'),\n",
       " Timestamp('2018-01-17 00:00:00')]"
      ]
     },
     "execution_count": 14,
     "metadata": {},
     "output_type": "execute_result"
    }
   ],
   "source": [
    "dates_list = df_prices.index.tolist()\n",
    "dates_list[:20]"
   ]
  },
  {
   "cell_type": "code",
   "execution_count": 15,
   "id": "3a1b3203",
   "metadata": {},
   "outputs": [
    {
     "name": "stdout",
     "output_type": "stream",
     "text": [
      "2017-12-18\n"
     ]
    }
   ],
   "source": [
    "# Index consists of timestamp elements\n",
    "timestamp = dates_list[0]\n",
    "\n",
    "# Extracting the date as a string\n",
    "date_string = timestamp.strftime('%Y-%m-%d')"
   ]
  },
  {
   "cell_type": "code",
   "execution_count": 11,
   "id": "b097ffa3",
   "metadata": {},
   "outputs": [],
   "source": [
    "# Feed in sentiment data from csv\n",
    "file_path = 'Financial_News_Sentiment.csv'\n",
    "df_news = pd.read_csv(file_path, index_col=0)"
   ]
  },
  {
   "cell_type": "code",
   "execution_count": 12,
   "id": "9ab1bcd9",
   "metadata": {},
   "outputs": [
    {
     "data": {
      "text/html": [
       "<div>\n",
       "<style scoped>\n",
       "    .dataframe tbody tr th:only-of-type {\n",
       "        vertical-align: middle;\n",
       "    }\n",
       "\n",
       "    .dataframe tbody tr th {\n",
       "        vertical-align: top;\n",
       "    }\n",
       "\n",
       "    .dataframe thead th {\n",
       "        text-align: right;\n",
       "    }\n",
       "</style>\n",
       "<table border=\"1\" class=\"dataframe\">\n",
       "  <thead>\n",
       "    <tr style=\"text-align: right;\">\n",
       "      <th></th>\n",
       "      <th>Positive</th>\n",
       "      <th>Negative</th>\n",
       "      <th>Neutral</th>\n",
       "    </tr>\n",
       "    <tr>\n",
       "      <th>Date</th>\n",
       "      <th></th>\n",
       "      <th></th>\n",
       "      <th></th>\n",
       "    </tr>\n",
       "  </thead>\n",
       "  <tbody>\n",
       "    <tr>\n",
       "      <th>2020-07-18</th>\n",
       "      <td>0.135504</td>\n",
       "      <td>0.314033</td>\n",
       "      <td>0.550463</td>\n",
       "    </tr>\n",
       "    <tr>\n",
       "      <th>2020-07-17</th>\n",
       "      <td>0.194660</td>\n",
       "      <td>0.400375</td>\n",
       "      <td>0.404965</td>\n",
       "    </tr>\n",
       "    <tr>\n",
       "      <th>2020-07-16</th>\n",
       "      <td>0.198061</td>\n",
       "      <td>0.429176</td>\n",
       "      <td>0.372763</td>\n",
       "    </tr>\n",
       "    <tr>\n",
       "      <th>2020-07-15</th>\n",
       "      <td>0.278595</td>\n",
       "      <td>0.337260</td>\n",
       "      <td>0.384145</td>\n",
       "    </tr>\n",
       "    <tr>\n",
       "      <th>2020-07-14</th>\n",
       "      <td>0.231314</td>\n",
       "      <td>0.385918</td>\n",
       "      <td>0.382769</td>\n",
       "    </tr>\n",
       "  </tbody>\n",
       "</table>\n",
       "</div>"
      ],
      "text/plain": [
       "            Positive  Negative   Neutral\n",
       "Date                                    \n",
       "2020-07-18  0.135504  0.314033  0.550463\n",
       "2020-07-17  0.194660  0.400375  0.404965\n",
       "2020-07-16  0.198061  0.429176  0.372763\n",
       "2020-07-15  0.278595  0.337260  0.384145\n",
       "2020-07-14  0.231314  0.385918  0.382769"
      ]
     },
     "execution_count": 12,
     "metadata": {},
     "output_type": "execute_result"
    }
   ],
   "source": [
    "# Visualize dataframe\n",
    "df_news.head()"
   ]
  },
  {
   "cell_type": "code",
   "execution_count": 26,
   "id": "308d5425",
   "metadata": {},
   "outputs": [
    {
     "data": {
      "text/plain": [
       "[Timestamp('2017-12-17 00:00:00'),\n",
       " Timestamp('2017-12-18 00:00:00'),\n",
       " Timestamp('2017-12-19 00:00:00'),\n",
       " Timestamp('2017-12-20 00:00:00'),\n",
       " Timestamp('2017-12-21 00:00:00'),\n",
       " Timestamp('2017-12-22 00:00:00'),\n",
       " Timestamp('2017-12-25 00:00:00'),\n",
       " Timestamp('2017-12-26 00:00:00'),\n",
       " Timestamp('2017-12-27 00:00:00'),\n",
       " Timestamp('2017-12-28 00:00:00'),\n",
       " Timestamp('2017-12-30 00:00:00'),\n",
       " Timestamp('2017-12-31 00:00:00'),\n",
       " Timestamp('2018-01-02 00:00:00'),\n",
       " Timestamp('2018-01-03 00:00:00'),\n",
       " Timestamp('2018-01-04 00:00:00'),\n",
       " Timestamp('2018-01-05 00:00:00'),\n",
       " Timestamp('2018-01-06 00:00:00'),\n",
       " Timestamp('2018-01-08 00:00:00'),\n",
       " Timestamp('2018-01-09 00:00:00'),\n",
       " Timestamp('2018-01-10 00:00:00')]"
      ]
     },
     "execution_count": 26,
     "metadata": {},
     "output_type": "execute_result"
    }
   ],
   "source": [
    "# Convert index values from date strings into timestamp objects\n",
    "df_news.index = pd.to_datetime(df_news.index)\n",
    "\n",
    "# Sort by index values\n",
    "df_news.sort_index(ascending=True, inplace=True)\n",
    "\n",
    "# Confirm index values for dataframes match\n",
    "dates_list = df_news.index.tolist()\n",
    "dates_list[:20]"
   ]
  },
  {
   "cell_type": "code",
   "execution_count": 41,
   "id": "a21d8934",
   "metadata": {},
   "outputs": [
    {
     "name": "stdout",
     "output_type": "stream",
     "text": [
      "\n",
      "Merged DataFrame:\n"
     ]
    },
    {
     "data": {
      "text/html": [
       "<div>\n",
       "<style scoped>\n",
       "    .dataframe tbody tr th:only-of-type {\n",
       "        vertical-align: middle;\n",
       "    }\n",
       "\n",
       "    .dataframe tbody tr th {\n",
       "        vertical-align: top;\n",
       "    }\n",
       "\n",
       "    .dataframe thead th {\n",
       "        text-align: right;\n",
       "    }\n",
       "</style>\n",
       "<table border=\"1\" class=\"dataframe\">\n",
       "  <thead>\n",
       "    <tr style=\"text-align: right;\">\n",
       "      <th></th>\n",
       "      <th>Open</th>\n",
       "      <th>High</th>\n",
       "      <th>Low</th>\n",
       "      <th>Close</th>\n",
       "      <th>Adj Close</th>\n",
       "      <th>Volume</th>\n",
       "      <th>Positive</th>\n",
       "      <th>Negative</th>\n",
       "      <th>Neutral</th>\n",
       "    </tr>\n",
       "    <tr>\n",
       "      <th>Date</th>\n",
       "      <th></th>\n",
       "      <th></th>\n",
       "      <th></th>\n",
       "      <th></th>\n",
       "      <th></th>\n",
       "      <th></th>\n",
       "      <th></th>\n",
       "      <th></th>\n",
       "      <th></th>\n",
       "    </tr>\n",
       "  </thead>\n",
       "  <tbody>\n",
       "    <tr>\n",
       "      <th>2017-12-18</th>\n",
       "      <td>24739.560547</td>\n",
       "      <td>24876.070312</td>\n",
       "      <td>24739.560547</td>\n",
       "      <td>24792.199219</td>\n",
       "      <td>24792.199219</td>\n",
       "      <td>354880000</td>\n",
       "      <td>0.134950</td>\n",
       "      <td>0.427190</td>\n",
       "      <td>0.437860</td>\n",
       "    </tr>\n",
       "    <tr>\n",
       "      <th>2017-12-19</th>\n",
       "      <td>24834.380859</td>\n",
       "      <td>24850.109375</td>\n",
       "      <td>24715.599609</td>\n",
       "      <td>24754.750000</td>\n",
       "      <td>24754.750000</td>\n",
       "      <td>335330000</td>\n",
       "      <td>0.098566</td>\n",
       "      <td>0.410148</td>\n",
       "      <td>0.491286</td>\n",
       "    </tr>\n",
       "    <tr>\n",
       "      <th>2017-12-20</th>\n",
       "      <td>24838.089844</td>\n",
       "      <td>24852.439453</td>\n",
       "      <td>24697.109375</td>\n",
       "      <td>24726.650391</td>\n",
       "      <td>24726.650391</td>\n",
       "      <td>341790000</td>\n",
       "      <td>0.153500</td>\n",
       "      <td>0.408590</td>\n",
       "      <td>0.437910</td>\n",
       "    </tr>\n",
       "    <tr>\n",
       "      <th>2017-12-21</th>\n",
       "      <td>24778.259766</td>\n",
       "      <td>24850.910156</td>\n",
       "      <td>24766.269531</td>\n",
       "      <td>24782.289062</td>\n",
       "      <td>24782.289062</td>\n",
       "      <td>339530000</td>\n",
       "      <td>0.094427</td>\n",
       "      <td>0.396806</td>\n",
       "      <td>0.508767</td>\n",
       "    </tr>\n",
       "    <tr>\n",
       "      <th>2017-12-22</th>\n",
       "      <td>24764.039062</td>\n",
       "      <td>24784.150391</td>\n",
       "      <td>24717.509766</td>\n",
       "      <td>24754.060547</td>\n",
       "      <td>24754.060547</td>\n",
       "      <td>255140000</td>\n",
       "      <td>0.188427</td>\n",
       "      <td>0.297866</td>\n",
       "      <td>0.513707</td>\n",
       "    </tr>\n",
       "    <tr>\n",
       "      <th>...</th>\n",
       "      <td>...</td>\n",
       "      <td>...</td>\n",
       "      <td>...</td>\n",
       "      <td>...</td>\n",
       "      <td>...</td>\n",
       "      <td>...</td>\n",
       "      <td>...</td>\n",
       "      <td>...</td>\n",
       "      <td>...</td>\n",
       "    </tr>\n",
       "    <tr>\n",
       "      <th>2018-05-07</th>\n",
       "      <td>24317.660156</td>\n",
       "      <td>24479.449219</td>\n",
       "      <td>24263.419922</td>\n",
       "      <td>24357.320312</td>\n",
       "      <td>24357.320312</td>\n",
       "      <td>307670000</td>\n",
       "      <td>0.167224</td>\n",
       "      <td>0.311097</td>\n",
       "      <td>0.521679</td>\n",
       "    </tr>\n",
       "    <tr>\n",
       "      <th>2018-05-08</th>\n",
       "      <td>24341.349609</td>\n",
       "      <td>24412.339844</td>\n",
       "      <td>24198.339844</td>\n",
       "      <td>24360.210938</td>\n",
       "      <td>24360.210938</td>\n",
       "      <td>344940000</td>\n",
       "      <td>0.184633</td>\n",
       "      <td>0.370310</td>\n",
       "      <td>0.445057</td>\n",
       "    </tr>\n",
       "    <tr>\n",
       "      <th>2018-05-09</th>\n",
       "      <td>24399.179688</td>\n",
       "      <td>24586.480469</td>\n",
       "      <td>24323.869141</td>\n",
       "      <td>24542.539062</td>\n",
       "      <td>24542.539062</td>\n",
       "      <td>361580000</td>\n",
       "      <td>0.257348</td>\n",
       "      <td>0.321024</td>\n",
       "      <td>0.421629</td>\n",
       "    </tr>\n",
       "    <tr>\n",
       "      <th>2018-05-10</th>\n",
       "      <td>24591.660156</td>\n",
       "      <td>24794.990234</td>\n",
       "      <td>24575.910156</td>\n",
       "      <td>24739.529297</td>\n",
       "      <td>24739.529297</td>\n",
       "      <td>304210000</td>\n",
       "      <td>0.203189</td>\n",
       "      <td>0.418905</td>\n",
       "      <td>0.377906</td>\n",
       "    </tr>\n",
       "    <tr>\n",
       "      <th>2018-05-11</th>\n",
       "      <td>24758.640625</td>\n",
       "      <td>24868.650391</td>\n",
       "      <td>24717.500000</td>\n",
       "      <td>24831.169922</td>\n",
       "      <td>24831.169922</td>\n",
       "      <td>274150000</td>\n",
       "      <td>0.269350</td>\n",
       "      <td>0.276648</td>\n",
       "      <td>0.454003</td>\n",
       "    </tr>\n",
       "  </tbody>\n",
       "</table>\n",
       "<p>100 rows × 9 columns</p>\n",
       "</div>"
      ],
      "text/plain": [
       "                    Open          High           Low         Close  \\\n",
       "Date                                                                 \n",
       "2017-12-18  24739.560547  24876.070312  24739.560547  24792.199219   \n",
       "2017-12-19  24834.380859  24850.109375  24715.599609  24754.750000   \n",
       "2017-12-20  24838.089844  24852.439453  24697.109375  24726.650391   \n",
       "2017-12-21  24778.259766  24850.910156  24766.269531  24782.289062   \n",
       "2017-12-22  24764.039062  24784.150391  24717.509766  24754.060547   \n",
       "...                  ...           ...           ...           ...   \n",
       "2018-05-07  24317.660156  24479.449219  24263.419922  24357.320312   \n",
       "2018-05-08  24341.349609  24412.339844  24198.339844  24360.210938   \n",
       "2018-05-09  24399.179688  24586.480469  24323.869141  24542.539062   \n",
       "2018-05-10  24591.660156  24794.990234  24575.910156  24739.529297   \n",
       "2018-05-11  24758.640625  24868.650391  24717.500000  24831.169922   \n",
       "\n",
       "               Adj Close     Volume  Positive  Negative   Neutral  \n",
       "Date                                                               \n",
       "2017-12-18  24792.199219  354880000  0.134950  0.427190  0.437860  \n",
       "2017-12-19  24754.750000  335330000  0.098566  0.410148  0.491286  \n",
       "2017-12-20  24726.650391  341790000  0.153500  0.408590  0.437910  \n",
       "2017-12-21  24782.289062  339530000  0.094427  0.396806  0.508767  \n",
       "2017-12-22  24754.060547  255140000  0.188427  0.297866  0.513707  \n",
       "...                  ...        ...       ...       ...       ...  \n",
       "2018-05-07  24357.320312  307670000  0.167224  0.311097  0.521679  \n",
       "2018-05-08  24360.210938  344940000  0.184633  0.370310  0.445057  \n",
       "2018-05-09  24542.539062  361580000  0.257348  0.321024  0.421629  \n",
       "2018-05-10  24739.529297  304210000  0.203189  0.418905  0.377906  \n",
       "2018-05-11  24831.169922  274150000  0.269350  0.276648  0.454003  \n",
       "\n",
       "[100 rows x 9 columns]"
      ]
     },
     "execution_count": 41,
     "metadata": {},
     "output_type": "execute_result"
    }
   ],
   "source": [
    "# Merge dataframes based on prices index (timestamps)\n",
    "df_merged = pd.merge(df_prices, df_news, left_index=True, right_index=True, how='left')\n",
    "\n",
    "# Fill NaN values with 0\n",
    "df_merged.fillna(0, inplace=True)\n",
    "\n",
    "# Display the merged DataFrame\n",
    "print(\"\\nMerged DataFrame:\")\n",
    "df_merged.head(100)"
   ]
  },
  {
   "cell_type": "markdown",
   "id": "c6982843",
   "metadata": {},
   "source": [
    "### Split into Train and Test"
   ]
  },
  {
   "cell_type": "code",
   "execution_count": 38,
   "id": "7deb8593",
   "metadata": {},
   "outputs": [
    {
     "data": {
      "image/png": "[encoded data removed]",
      "text/plain": [
       "<Figure size 1600x400 with 1 Axes>"
      ]
     },
     "metadata": {},
     "output_type": "display_data"
    }
   ],
   "source": [
    "# split dataset for 2020 and beyond in test\n",
    "\n",
    "tstart = 2017\n",
    "tend = 2019\n",
    "\n",
    "def train_test_plot(dataset, tstart, tend):\n",
    "    dataset.loc[f\"{tstart}\":f\"{tend}\", \"Close\"].plot(figsize=(16, 4), legend=True)\n",
    "    dataset.loc[f\"{tend+1}\":, \"Close\"].plot(figsize=(16, 4), legend=True)\n",
    "    plt.legend([f\"Train (Before {tend+1})\", f\"Test ({tend+1} and beyond)\"])\n",
    "    plt.title(\"DJIA index price\")\n",
    "    plt.show()\n",
    "\n",
    "train_test_plot(df_merged,tstart,tend)"
   ]
  },
  {
   "cell_type": "code",
   "execution_count": 106,
   "id": "a90597dd",
   "metadata": {},
   "outputs": [],
   "source": [
    "# Split the prices dataframe into training and testing segments\n",
    "\n",
    "def train_test_split(dataset, tstart, tend):\n",
    "    # extract 1D arrays of closing prices from df\n",
    "    p_train = dataset.loc[f\"{tstart}\":f\"{tend}\", \"Close\"]\n",
    "    p_test = dataset.loc[f\"{tend+1}\":, \"Close\"]\n",
    "    \n",
    "    # extract 2D arrays of news sentiments from df\n",
    "    n_train = dataset.loc[f\"{tstart}\":f\"{tend}\", [\"Positive\", \"Neutral\", \"Negative\"]]\n",
    "    n_test = dataset.loc[f\"{tend+1}\":, [\"Positive\", \"Neutral\", \"Negative\"]]\n",
    "    \n",
    "    # return in array form\n",
    "    return p_train.values, p_test.values, n_train.values, n_test.values\n",
    "\n",
    "p_train, p_test, n_train, n_test = train_test_split(df_merged, tstart, tend)\n"
   ]
  },
  {
   "cell_type": "code",
   "execution_count": 107,
   "id": "df5fd18b",
   "metadata": {},
   "outputs": [],
   "source": [
    "# Scaling the prices values between (0,1) and convert to 2D column vector\n",
    "\n",
    "sc = MinMaxScaler(feature_range=(0, 1))\n",
    "p_train = p_train.reshape(-1, 1)\n",
    "p_train_scaled = sc.fit_transform(p_train)\n",
    "\n",
    "p_test = p_test.reshape(-1, 1)\n",
    "p_test_scaled = sc.fit_transform(p_test)\n"
   ]
  },
  {
   "cell_type": "code",
   "execution_count": 126,
   "id": "2df3d57a",
   "metadata": {},
   "outputs": [
    {
     "name": "stdout",
     "output_type": "stream",
     "text": [
      "[[24792.19921875]\n",
      " [24754.75      ]\n",
      " [24726.65039062]\n",
      " [24782.2890625 ]\n",
      " [24754.06054688]]\n",
      "(512, 1)\n"
     ]
    }
   ],
   "source": [
    "print(p_train[:5])\n",
    "print(p_train.shape)"
   ]
  },
  {
   "cell_type": "code",
   "execution_count": 127,
   "id": "baf8cdbe",
   "metadata": {},
   "outputs": [],
   "source": [
    "# Reshape the news sentiment arrays into column vectors\n",
    "\n",
    "n_train = n_train.reshape(-1, 1)\n",
    "n_test = n_test.reshape(-1, 1)\n"
   ]
  },
  {
   "cell_type": "code",
   "execution_count": 128,
   "id": "846e4fed",
   "metadata": {},
   "outputs": [
    {
     "name": "stdout",
     "output_type": "stream",
     "text": [
      "[[0.13495041]\n",
      " [0.43785952]\n",
      " [0.42719007]\n",
      " [0.09856632]\n",
      " [0.49128579]]\n",
      "(1536, 1)\n"
     ]
    }
   ],
   "source": [
    "print(n_train[:5])\n",
    "print(n_train.shape)"
   ]
  },
  {
   "cell_type": "code",
   "execution_count": 129,
   "id": "60b5ab11",
   "metadata": {},
   "outputs": [],
   "source": [
    "# Split the data into vectors X (sequences of length window_size) and Y (next price target)\n",
    "# Updated such that the individual sequences within X also contain the target's news sentiment scores\n",
    "\n",
    "def split_sequence(p_sequence, n_sequence, window):\n",
    "    X, y = list(), list()\n",
    "    for i in range(len(p_sequence)):\n",
    "        end_idx = i + window\n",
    "        if end_idx > len(p_sequence) - 1:\n",
    "            break # end when parsed through all window_size segments\n",
    "        seq_x, seq_y = p_sequence[i:end_idx], p_sequence[end_idx]\n",
    "        # incorporate sentiment\n",
    "        n_idx = end_idx*3\n",
    "        seq_n = n_sequence[n_idx: n_idx+3]\n",
    "        seq_x = np.concatenate((seq_x, seq_n), axis=0)\n",
    "        # update containers\n",
    "        X.append(seq_x)\n",
    "        y.append(seq_y)\n",
    "    # return following iter\n",
    "    return np.array(X), np.array(y)\n",
    "\n",
    "window_size = 50 # arbitrary\n",
    "features = 4 # last dimension of tensor\n",
    "\n",
    "# Call for both training and test set\n",
    "\n",
    "X_train, y_train = split_sequence(p_train_scaled, n_train, window_size)\n",
    "X_test, y_test = split_sequence(p_test_scaled, n_test, window_size)\n"
   ]
  },
  {
   "cell_type": "code",
   "execution_count": 130,
   "id": "4767c41e",
   "metadata": {},
   "outputs": [
    {
     "data": {
      "text/plain": [
       "array([[[0.43776062],\n",
       "        [0.43229602],\n",
       "        [0.42819572],\n",
       "        [0.43631452],\n",
       "        [0.43219541],\n",
       "        [0.43105   ],\n",
       "        [0.43514887],\n",
       "        [0.44437234],\n",
       "        [0.42711158],\n",
       "        [0.44240242],\n",
       "        [0.45680035],\n",
       "        [0.47904606],\n",
       "        [0.51125623],\n",
       "        [0.50937837],\n",
       "        [0.52437908],\n",
       "        [0.5219466 ],\n",
       "        [0.55194774],\n",
       "        [0.58528452],\n",
       "        [0.58377715],\n",
       "        [0.63087888],\n",
       "        [0.61660207],\n",
       "        [0.62446865],\n",
       "        [0.64531757],\n",
       "        [0.64476467],\n",
       "        [0.65079243],\n",
       "        [0.67131901],\n",
       "        [0.70399374],\n",
       "        [0.67813223],\n",
       "        [0.62522305],\n",
       "        [0.63580226],\n",
       "        [0.64124805],\n",
       "        [0.54410167],\n",
       "        [0.37261465],\n",
       "        [0.45535426],\n",
       "        [0.4525205 ],\n",
       "        [0.30180117],\n",
       "        [0.35001897],\n",
       "        [0.40990012],\n",
       "        [0.41561722],\n",
       "        [0.45254102],\n",
       "        [0.49732085],\n",
       "        [0.50009505],\n",
       "        [0.46293926],\n",
       "        [0.43857486],\n",
       "        [0.46260809],\n",
       "        [0.51331679],\n",
       "        [0.5715797 ],\n",
       "        [0.52791451],\n",
       "        [0.4723437 ],\n",
       "        [0.4110253 ],\n",
       "        [0.16860879],\n",
       "        [0.5409535 ],\n",
       "        [0.29043771]],\n",
       "\n",
       "       [[0.43229602],\n",
       "        [0.42819572],\n",
       "        [0.43631452],\n",
       "        [0.43219541],\n",
       "        [0.43105   ],\n",
       "        [0.43514887],\n",
       "        [0.44437234],\n",
       "        [0.42711158],\n",
       "        [0.44240242],\n",
       "        [0.45680035],\n",
       "        [0.47904606],\n",
       "        [0.51125623],\n",
       "        [0.50937837],\n",
       "        [0.52437908],\n",
       "        [0.5219466 ],\n",
       "        [0.55194774],\n",
       "        [0.58528452],\n",
       "        [0.58377715],\n",
       "        [0.63087888],\n",
       "        [0.61660207],\n",
       "        [0.62446865],\n",
       "        [0.64531757],\n",
       "        [0.64476467],\n",
       "        [0.65079243],\n",
       "        [0.67131901],\n",
       "        [0.70399374],\n",
       "        [0.67813223],\n",
       "        [0.62522305],\n",
       "        [0.63580226],\n",
       "        [0.64124805],\n",
       "        [0.54410167],\n",
       "        [0.37261465],\n",
       "        [0.45535426],\n",
       "        [0.4525205 ],\n",
       "        [0.30180117],\n",
       "        [0.35001897],\n",
       "        [0.40990012],\n",
       "        [0.41561722],\n",
       "        [0.45254102],\n",
       "        [0.49732085],\n",
       "        [0.50009505],\n",
       "        [0.46293926],\n",
       "        [0.43857486],\n",
       "        [0.46260809],\n",
       "        [0.51331679],\n",
       "        [0.5715797 ],\n",
       "        [0.52791451],\n",
       "        [0.4723437 ],\n",
       "        [0.4110253 ],\n",
       "        [0.40067665],\n",
       "        [0.15061943],\n",
       "        [0.5743499 ],\n",
       "        [0.27503068]],\n",
       "\n",
       "       [[0.42819572],\n",
       "        [0.43631452],\n",
       "        [0.43219541],\n",
       "        [0.43105   ],\n",
       "        [0.43514887],\n",
       "        [0.44437234],\n",
       "        [0.42711158],\n",
       "        [0.44240242],\n",
       "        [0.45680035],\n",
       "        [0.47904606],\n",
       "        [0.51125623],\n",
       "        [0.50937837],\n",
       "        [0.52437908],\n",
       "        [0.5219466 ],\n",
       "        [0.55194774],\n",
       "        [0.58528452],\n",
       "        [0.58377715],\n",
       "        [0.63087888],\n",
       "        [0.61660207],\n",
       "        [0.62446865],\n",
       "        [0.64531757],\n",
       "        [0.64476467],\n",
       "        [0.65079243],\n",
       "        [0.67131901],\n",
       "        [0.70399374],\n",
       "        [0.67813223],\n",
       "        [0.62522305],\n",
       "        [0.63580226],\n",
       "        [0.64124805],\n",
       "        [0.54410167],\n",
       "        [0.37261465],\n",
       "        [0.45535426],\n",
       "        [0.4525205 ],\n",
       "        [0.30180117],\n",
       "        [0.35001897],\n",
       "        [0.40990012],\n",
       "        [0.41561722],\n",
       "        [0.45254102],\n",
       "        [0.49732085],\n",
       "        [0.50009505],\n",
       "        [0.46293926],\n",
       "        [0.43857486],\n",
       "        [0.46260809],\n",
       "        [0.51331679],\n",
       "        [0.5715797 ],\n",
       "        [0.52791451],\n",
       "        [0.4723437 ],\n",
       "        [0.4110253 ],\n",
       "        [0.40067665],\n",
       "        [0.44980787],\n",
       "        [0.10760917],\n",
       "        [0.43366908],\n",
       "        [0.45872175]],\n",
       "\n",
       "       [[0.43631452],\n",
       "        [0.43219541],\n",
       "        [0.43105   ],\n",
       "        [0.43514887],\n",
       "        [0.44437234],\n",
       "        [0.42711158],\n",
       "        [0.44240242],\n",
       "        [0.45680035],\n",
       "        [0.47904606],\n",
       "        [0.51125623],\n",
       "        [0.50937837],\n",
       "        [0.52437908],\n",
       "        [0.5219466 ],\n",
       "        [0.55194774],\n",
       "        [0.58528452],\n",
       "        [0.58377715],\n",
       "        [0.63087888],\n",
       "        [0.61660207],\n",
       "        [0.62446865],\n",
       "        [0.64531757],\n",
       "        [0.64476467],\n",
       "        [0.65079243],\n",
       "        [0.67131901],\n",
       "        [0.70399374],\n",
       "        [0.67813223],\n",
       "        [0.62522305],\n",
       "        [0.63580226],\n",
       "        [0.64124805],\n",
       "        [0.54410167],\n",
       "        [0.37261465],\n",
       "        [0.45535426],\n",
       "        [0.4525205 ],\n",
       "        [0.30180117],\n",
       "        [0.35001897],\n",
       "        [0.40990012],\n",
       "        [0.41561722],\n",
       "        [0.45254102],\n",
       "        [0.49732085],\n",
       "        [0.50009505],\n",
       "        [0.46293926],\n",
       "        [0.43857486],\n",
       "        [0.46260809],\n",
       "        [0.51331679],\n",
       "        [0.5715797 ],\n",
       "        [0.52791451],\n",
       "        [0.4723437 ],\n",
       "        [0.4110253 ],\n",
       "        [0.40067665],\n",
       "        [0.44980787],\n",
       "        [0.45117359],\n",
       "        [0.13850842],\n",
       "        [0.52325144],\n",
       "        [0.33824014]],\n",
       "\n",
       "       [[0.43219541],\n",
       "        [0.43105   ],\n",
       "        [0.43514887],\n",
       "        [0.44437234],\n",
       "        [0.42711158],\n",
       "        [0.44240242],\n",
       "        [0.45680035],\n",
       "        [0.47904606],\n",
       "        [0.51125623],\n",
       "        [0.50937837],\n",
       "        [0.52437908],\n",
       "        [0.5219466 ],\n",
       "        [0.55194774],\n",
       "        [0.58528452],\n",
       "        [0.58377715],\n",
       "        [0.63087888],\n",
       "        [0.61660207],\n",
       "        [0.62446865],\n",
       "        [0.64531757],\n",
       "        [0.64476467],\n",
       "        [0.65079243],\n",
       "        [0.67131901],\n",
       "        [0.70399374],\n",
       "        [0.67813223],\n",
       "        [0.62522305],\n",
       "        [0.63580226],\n",
       "        [0.64124805],\n",
       "        [0.54410167],\n",
       "        [0.37261465],\n",
       "        [0.45535426],\n",
       "        [0.4525205 ],\n",
       "        [0.30180117],\n",
       "        [0.35001897],\n",
       "        [0.40990012],\n",
       "        [0.41561722],\n",
       "        [0.45254102],\n",
       "        [0.49732085],\n",
       "        [0.50009505],\n",
       "        [0.46293926],\n",
       "        [0.43857486],\n",
       "        [0.46260809],\n",
       "        [0.51331679],\n",
       "        [0.5715797 ],\n",
       "        [0.52791451],\n",
       "        [0.4723437 ],\n",
       "        [0.4110253 ],\n",
       "        [0.40067665],\n",
       "        [0.44980787],\n",
       "        [0.45117359],\n",
       "        [0.43909727],\n",
       "        [0.15571462],\n",
       "        [0.38096161],\n",
       "        [0.46332377]]])"
      ]
     },
     "execution_count": 130,
     "metadata": {},
     "output_type": "execute_result"
    }
   ],
   "source": [
    "# Confirmed concatenated values within X_train\n",
    "\n",
    "X_train[:5]\n"
   ]
  },
  {
   "cell_type": "code",
   "execution_count": 131,
   "id": "faee7d87",
   "metadata": {},
   "outputs": [],
   "source": [
    "# Reshape X_train and X_test for 2D column vector to 3D input tensor\n",
    "\n",
    "X_train = X_train.reshape(X_train.shape[0], X_train.shape[1], features)\n",
    "X_test = X_test.reshape(X_test.shape[0], X_test.shape[1], features)\n"
   ]
  },
  {
   "cell_type": "code",
   "execution_count": 149,
   "id": "b4192718",
   "metadata": {},
   "outputs": [],
   "source": [
    "# Expand feature window to include sentiment scores\n",
    "feature_window = window_size + 3 "
   ]
  },
  {
   "cell_type": "markdown",
   "id": "9142b492",
   "metadata": {},
   "source": [
    "## LSTM Training and Prediction"
   ]
  },
  {
   "cell_type": "code",
   "execution_count": 132,
   "id": "464ab014",
   "metadata": {},
   "outputs": [
    {
     "name": "stdout",
     "output_type": "stream",
     "text": [
      "Model: \"sequential\"\n",
      "_________________________________________________________________\n",
      " Layer (type)                Output Shape              Param #   \n",
      "=================================================================\n",
      " lstm (LSTM)                 (None, 125)               63500     \n",
      "                                                                 \n",
      " dense (Dense)               (None, 25)                3150      \n",
      "                                                                 \n",
      " dense_1 (Dense)             (None, 1)                 26        \n",
      "                                                                 \n",
      "=================================================================\n",
      "Total params: 66676 (260.45 KB)\n",
      "Trainable params: 66676 (260.45 KB)\n",
      "Non-trainable params: 0 (0.00 Byte)\n",
      "_________________________________________________________________\n"
     ]
    }
   ],
   "source": [
    "# Define model architecture\n",
    "\n",
    "model_lstm = Sequential()\n",
    "model_lstm.add(LSTM(units=125, activation=\"tanh\", input_shape=(feature_window, features)))\n",
    "model_lstm.add(Dense(25))\n",
    "model_lstm.add(Dense(units=1)) # final dense layer (1) predicts value for target price\n",
    "\n",
    "model_lstm.compile(optimizer='adam', loss='mse')\n",
    "\n",
    "model_lstm.summary()\n"
   ]
  },
  {
   "cell_type": "code",
   "execution_count": 161,
   "id": "3754c80e",
   "metadata": {},
   "outputs": [
    {
     "name": "stdout",
     "output_type": "stream",
     "text": [
      "Epoch 1/15\n",
      "15/15 [==============================] - 0s 24ms/step - loss: 0.0019\n",
      "Epoch 2/15\n",
      "15/15 [==============================] - 0s 23ms/step - loss: 0.0019\n",
      "Epoch 3/15\n",
      "15/15 [==============================] - 0s 23ms/step - loss: 0.0020\n",
      "Epoch 4/15\n",
      "15/15 [==============================] - 0s 23ms/step - loss: 0.0020\n",
      "Epoch 5/15\n",
      "15/15 [==============================] - 0s 24ms/step - loss: 0.0018\n",
      "Epoch 6/15\n",
      "15/15 [==============================] - 0s 25ms/step - loss: 0.0020\n",
      "Epoch 7/15\n",
      "15/15 [==============================] - 0s 24ms/step - loss: 0.0018\n",
      "Epoch 8/15\n",
      "15/15 [==============================] - 0s 24ms/step - loss: 0.0020\n",
      "Epoch 9/15\n",
      "15/15 [==============================] - 0s 26ms/step - loss: 0.0018\n",
      "Epoch 10/15\n",
      "15/15 [==============================] - 0s 24ms/step - loss: 0.0018\n",
      "Epoch 11/15\n",
      "15/15 [==============================] - 0s 23ms/step - loss: 0.0018\n",
      "Epoch 12/15\n",
      "15/15 [==============================] - 0s 23ms/step - loss: 0.0024\n",
      "Epoch 13/15\n",
      "15/15 [==============================] - 0s 23ms/step - loss: 0.0020\n",
      "Epoch 14/15\n",
      "15/15 [==============================] - 0s 23ms/step - loss: 0.0019\n",
      "Epoch 15/15\n",
      "15/15 [==============================] - 0s 24ms/step - loss: 0.0017\n"
     ]
    },
    {
     "data": {
      "text/plain": [
       "<keras.src.callbacks.History at 0x28df0c5d0>"
      ]
     },
     "execution_count": 161,
     "metadata": {},
     "output_type": "execute_result"
    }
   ],
   "source": [
    "# Train model\n",
    "\n",
    "model_lstm.fit(X_train, y_train, epochs=15, batch_size=32)\n"
   ]
  },
  {
   "cell_type": "code",
   "execution_count": 162,
   "id": "2fc110d3",
   "metadata": {},
   "outputs": [
    {
     "name": "stdout",
     "output_type": "stream",
     "text": [
      "3/3 [==============================] - 0s 8ms/step\n"
     ]
    }
   ],
   "source": [
    "# Make predictions on test set\n",
    "\n",
    "predicted_index_prices = model_lstm.predict(X_test)\n"
   ]
  },
  {
   "cell_type": "code",
   "execution_count": 163,
   "id": "2199060a",
   "metadata": {},
   "outputs": [],
   "source": [
    "# Inverse transform both y_test and predicted_index_price\n",
    "\n",
    "y_test_inv = sc.inverse_transform(y_test)\n",
    "predicted_index_prices_inv = sc.inverse_transform(predicted_index_prices)\n"
   ]
  },
  {
   "cell_type": "code",
   "execution_count": 164,
   "id": "52db68ab",
   "metadata": {},
   "outputs": [
    {
     "name": "stdout",
     "output_type": "stream",
     "text": [
      "[[20188.51953125]\n",
      " [21237.38085938]\n",
      " [19898.91992188]\n",
      " [20087.18945312]\n",
      " [19173.98046875]\n",
      " [18591.9296875 ]\n",
      " [20704.91015625]\n",
      " [21200.55078125]\n",
      " [22552.16992188]\n",
      " [21636.77929688]\n",
      " [22327.48046875]\n",
      " [21917.16015625]\n",
      " [20943.50976562]\n",
      " [21413.43945312]\n",
      " [21052.52929688]\n",
      " [22679.99023438]\n",
      " [22653.859375  ]\n",
      " [23433.5703125 ]\n",
      " [23719.36914062]\n",
      " [23390.76953125]] \n",
      "\n",
      "\n",
      "[[22358.71 ]\n",
      " [21277.906]\n",
      " [20939.191]\n",
      " [20471.455]\n",
      " [20088.574]\n",
      " [19829.889]\n",
      " [19480.7  ]\n",
      " [19951.799]\n",
      " [20500.28 ]\n",
      " [21305.74 ]\n",
      " [21644.457]\n",
      " [22195.205]\n",
      " [22232.959]\n",
      " [21882.55 ]\n",
      " [21748.143]\n",
      " [21275.855]\n",
      " [21708.244]\n",
      " [22001.98 ]\n",
      " [22523.955]\n",
      " [22841.875]]\n"
     ]
    }
   ],
   "source": [
    "# Visualize y_test and predicted_index prices following transform\n",
    "\n",
    "print(y_test_inv[:20], \"\\n\\n\")\n",
    "print(predicted_index_prices_inv[:20])\n"
   ]
  },
  {
   "cell_type": "code",
   "execution_count": 168,
   "id": "08063cee",
   "metadata": {},
   "outputs": [],
   "source": [
    "# Helper functions for plotting model predictions vs true index prices\n",
    "\n",
    "def plot_predictions(test, predicted, model_type):\n",
    "    plt.plot(test, color=\"gray\", label=\"Real\")\n",
    "    plt.plot(predicted, color=\"red\", label=\"Predicted\")\n",
    "    plt.title(f\"Index Price Prediction for {model_type} model\")\n",
    "    plt.xlabel(\"Days following Feb 20th, 2020\")\n",
    "    plt.ylabel(\"Index Price\")\n",
    "    plt.legend()\n",
    "    plt.show()\n",
    "\n",
    "\n",
    "def return_rmse(test, predicted):\n",
    "    rmse = np.sqrt(mean_squared_error(test, predicted))\n",
    "    print(\"The root mean squared error is {:.2f} USD.\".format(rmse))\n",
    "    "
   ]
  },
  {
   "cell_type": "code",
   "execution_count": 169,
   "id": "2ebcfff3",
   "metadata": {},
   "outputs": [
    {
     "data": {
      "image/png": "[encoded data removed]",
      "text/plain": [
       "<Figure size 640x480 with 1 Axes>"
      ]
     },
     "metadata": {},
     "output_type": "display_data"
    }
   ],
   "source": [
    "# Display predictions plot\n",
    "\n",
    "plot_predictions(y_test_inv, predicted_index_prices_inv, \"LSTM\")\n"
   ]
  },
  {
   "cell_type": "markdown",
   "id": "87168019",
   "metadata": {},
   "source": [
    "**Comments:** From the plot above, we observe that our LSTM model trained with financial news sentiment features in addition to historical index data from the last 50 days was able to decently predict low-frequency trends in DJIA index price shifts. The model outperformed its benchmark equivalent by a statistically significant margin, demonstrated by the reduction in RMSE (below) of over 100 USD."
   ]
  },
  {
   "cell_type": "code",
   "execution_count": 167,
   "id": "1ccd4875",
   "metadata": {},
   "outputs": [
    {
     "name": "stdout",
     "output_type": "stream",
     "text": [
      "The root mean squared error is 749.06 USD.\n"
     ]
    }
   ],
   "source": [
    "# Display root mean squared error from the prediction\n",
    "\n",
    "return_rmse(y_test_inv, predicted_index_prices_inv)\n"
   ]
  },
  {
   "cell_type": "markdown",
   "id": "4b469560",
   "metadata": {},
   "source": [
    "## GRU Training and Prediction"
   ]
  },
  {
   "cell_type": "code",
   "execution_count": 153,
   "id": "aa3f42ef",
   "metadata": {},
   "outputs": [
    {
     "name": "stdout",
     "output_type": "stream",
     "text": [
      "Model: \"sequential_4\"\n",
      "_________________________________________________________________\n",
      " Layer (type)                Output Shape              Param #   \n",
      "=================================================================\n",
      " gru_5 (GRU)                 (None, 125)               48000     \n",
      "                                                                 \n",
      " dense_3 (Dense)             (None, 10)                1260      \n",
      "                                                                 \n",
      " dense_4 (Dense)             (None, 1)                 11        \n",
      "                                                                 \n",
      "=================================================================\n",
      "Total params: 49271 (192.46 KB)\n",
      "Trainable params: 49271 (192.46 KB)\n",
      "Non-trainable params: 0 (0.00 Byte)\n",
      "_________________________________________________________________\n"
     ]
    }
   ],
   "source": [
    "# Define model architecture\n",
    "\n",
    "model_gru = Sequential()\n",
    "model_gru.add(GRU(units=125, activation=\"tanh\", input_shape=(feature_window, features)))\n",
    "model_gru.add(Dense(units=10))\n",
    "model_gru.add(Dense(units=1)) # dense layer outputs target index price\n",
    "\n",
    "model_gru.compile(optimizer=\"adam\", loss=\"mse\")\n",
    "\n",
    "model_gru.summary()\n"
   ]
  },
  {
   "cell_type": "code",
   "execution_count": 155,
   "id": "f3f0bb65",
   "metadata": {},
   "outputs": [
    {
     "name": "stdout",
     "output_type": "stream",
     "text": [
      "Epoch 1/15\n",
      "15/15 [==============================] - 0s 20ms/step - loss: 0.0018\n",
      "Epoch 2/15\n",
      "15/15 [==============================] - 0s 19ms/step - loss: 0.0019\n",
      "Epoch 3/15\n",
      "15/15 [==============================] - 0s 20ms/step - loss: 0.0021\n",
      "Epoch 4/15\n",
      "15/15 [==============================] - 0s 20ms/step - loss: 0.0021\n",
      "Epoch 5/15\n",
      "15/15 [==============================] - 0s 20ms/step - loss: 0.0017\n",
      "Epoch 6/15\n",
      "15/15 [==============================] - 0s 19ms/step - loss: 0.0017\n",
      "Epoch 7/15\n",
      "15/15 [==============================] - 0s 19ms/step - loss: 0.0016\n",
      "Epoch 8/15\n",
      "15/15 [==============================] - 0s 19ms/step - loss: 0.0018\n",
      "Epoch 9/15\n",
      "15/15 [==============================] - 0s 19ms/step - loss: 0.0017\n",
      "Epoch 10/15\n",
      "15/15 [==============================] - 0s 22ms/step - loss: 0.0016\n",
      "Epoch 11/15\n",
      "15/15 [==============================] - 0s 19ms/step - loss: 0.0017\n",
      "Epoch 12/15\n",
      "15/15 [==============================] - 0s 19ms/step - loss: 0.0019\n",
      "Epoch 13/15\n",
      "15/15 [==============================] - 0s 19ms/step - loss: 0.0017\n",
      "Epoch 14/15\n",
      "15/15 [==============================] - 0s 20ms/step - loss: 0.0017\n",
      "Epoch 15/15\n",
      "15/15 [==============================] - 0s 26ms/step - loss: 0.0016\n"
     ]
    },
    {
     "data": {
      "text/plain": [
       "<keras.src.callbacks.History at 0x28fbaf410>"
      ]
     },
     "execution_count": 155,
     "metadata": {},
     "output_type": "execute_result"
    }
   ],
   "source": [
    "# Train model\n",
    "\n",
    "model_gru.fit(X_train, y_train, epochs=15, batch_size=32)\n"
   ]
  },
  {
   "cell_type": "code",
   "execution_count": 157,
   "id": "4a9f4009",
   "metadata": {},
   "outputs": [
    {
     "name": "stdout",
     "output_type": "stream",
     "text": [
      "3/3 [==============================] - 0s 7ms/step\n"
     ]
    }
   ],
   "source": [
    "# Model predictions and inverse transform\n",
    "\n",
    "GRU_predicted_stock_prices = model_gru.predict(X_test)\n",
    "GRU_predicted_stock_prices_inv = sc.inverse_transform(GRU_predicted_stock_prices)\n",
    "# y_test inverse transform stored from earlier\n"
   ]
  },
  {
   "cell_type": "code",
   "execution_count": 170,
   "id": "c72d8434",
   "metadata": {},
   "outputs": [
    {
     "data": {
      "image/png": "[encoded data removed]",
      "text/plain": [
       "<Figure size 640x480 with 1 Axes>"
      ]
     },
     "metadata": {},
     "output_type": "display_data"
    }
   ],
   "source": [
    "# Display predictions plot\n",
    "\n",
    "plot_predictions(y_test_inv, GRU_predicted_stock_prices_inv, \"GRU\")\n"
   ]
  },
  {
   "cell_type": "markdown",
   "id": "38ed7245",
   "metadata": {},
   "source": [
    "**Comments:** Based on the plot above, we can conclude that the GRU model containing financial news sentiment features captured a greater extent of high-frequency fluctions in DJIA index prices compared to that of our LSTM model before. Furthermore, this model also outperformed its benchmark equivalent as demonstrated by the reduction in RMSE value displayed below."
   ]
  },
  {
   "cell_type": "code",
   "execution_count": 160,
   "id": "755f6add",
   "metadata": {},
   "outputs": [
    {
     "name": "stdout",
     "output_type": "stream",
     "text": [
      "The root mean squared error is 707.72 USD.\n"
     ]
    }
   ],
   "source": [
    "# Report root mean squared error\n",
    "\n",
    "return_rmse(y_test_inv, GRU_predicted_stock_prices_inv)\n"
   ]
  }
 ],
 "metadata": {
  "kernelspec": {
   "display_name": "Python 3 (ipykernel)",
   "language": "python",
   "name": "python3"
  },
  "language_info": {
   "codemirror_mode": {
    "name": "ipython",
    "version": 3
   },
   "file_extension": ".py",
   "mimetype": "text/x-python",
   "name": "python",
   "nbconvert_exporter": "python",
   "pygments_lexer": "ipython3",
   "version": "3.11.4"
  }
 },
 "nbformat": 4,
 "nbformat_minor": 5
}
